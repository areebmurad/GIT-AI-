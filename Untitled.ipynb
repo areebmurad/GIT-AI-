{
 "cells": [
  {
   "cell_type": "code",
   "execution_count": null,
   "metadata": {},
   "outputs": [],
   "source": [
    "To_doList = ['Brush teeth','Breakfast','Namaz','Complete Assignment','Play Cricket','Sleep']"
   ]
  },
  {
   "cell_type": "code",
   "execution_count": null,
   "metadata": {},
   "outputs": [],
   "source": [
    "Completed_TasksList=[]\n"
   ]
  },
  {
   "cell_type": "code",
   "execution_count": null,
   "metadata": {},
   "outputs": [],
   "source": [
    "x=str(input(\"Enter Completed Tasks :\"))\n",
    "if x in To_doList:\n",
    "    y=To_doList.index(x)\n",
    "    To_doList.pop(y)\n",
    "    Completed_TasksList.append(x)\n",
    "    print(\"To Do :\" , To_doList)\n",
    "    print(\"Completed Tasks\",Completed_TasksList )\n",
    "    else\n",
    "    print(\"Your Task is not in the list\")"
   ]
  },
  {
   "cell_type": "code",
   "execution_count": null,
   "metadata": {},
   "outputs": [],
   "source": []
  }
 ],
 "metadata": {
  "kernelspec": {
   "display_name": "Python 3",
   "language": "python",
   "name": "python3"
  },
  "language_info": {
   "codemirror_mode": {
    "name": "ipython",
    "version": 3
   },
   "file_extension": ".py",
   "mimetype": "text/x-python",
   "name": "python",
   "nbconvert_exporter": "python",
   "pygments_lexer": "ipython3",
   "version": "3.7.3"
  }
 },
 "nbformat": 4,
 "nbformat_minor": 2
}
