{
 "cells": [
  {
   "cell_type": "markdown",
   "metadata": {
    "colab_type": "text",
    "id": "HiFXgxYCTBQ7"
   },
   "source": [
    "## 1. Calculate Area of a Circle"
   ]
  },
  {
   "cell_type": "markdown",
   "metadata": {
    "colab_type": "text",
    "id": "dSagDXLUTBRA"
   },
   "source": [
    "#### Write a Python program which accepts the radius of a circle from the user and compute the area.\n",
    "###### Program Console Sample Output 1:\n",
    "###### Input Radius: 0.5\n",
    "###### Area of Circle with radius 0.5 is 0.7853981634"
   ]
  },
  {
   "cell_type": "code",
   "execution_count": 13,
   "metadata": {
    "colab": {
     "base_uri": "https://localhost:8080/",
     "height": 34
    },
    "colab_type": "code",
    "executionInfo": {
     "elapsed": 5267,
     "status": "ok",
     "timestamp": 1559917362970,
     "user": {
      "displayName": "Muhammad Miqdad",
      "photoUrl": "",
      "userId": "13929019125214508006"
     },
     "user_tz": -300
    },
    "id": "SqLPzbFpTBRE",
    "outputId": "9df8a8f8-8703-4da1-80a9-4c6cbdbb5581"
   },
   "outputs": [
    {
     "name": "stdout",
     "output_type": "stream",
     "text": [
      "Enter the radius of circle: 0.5\n"
     ]
    }
   ],
   "source": [
    "radius=float(input('Enter the radius of circle: '))"
   ]
  },
  {
   "cell_type": "code",
   "execution_count": 0,
   "metadata": {
    "colab": {},
    "colab_type": "code",
    "id": "lj2o_YChTBRS"
   },
   "outputs": [],
   "source": [
    "area=3.14159265*radius**2"
   ]
  },
  {
   "cell_type": "code",
   "execution_count": 22,
   "metadata": {
    "colab": {
     "base_uri": "https://localhost:8080/",
     "height": 34
    },
    "colab_type": "code",
    "executionInfo": {
     "elapsed": 1357,
     "status": "ok",
     "timestamp": 1559917423843,
     "user": {
      "displayName": "Muhammad Miqdad",
      "photoUrl": "",
      "userId": "13929019125214508006"
     },
     "user_tz": -300
    },
    "id": "Ntjaf6WuTBRb",
    "outputId": "fb9e5545-0327-49be-e69f-df545ccf10d7"
   },
   "outputs": [
    {
     "name": "stdout",
     "output_type": "stream",
     "text": [
      "Area of Circle with radius 0.5 is 0.7853981625 units\n"
     ]
    }
   ],
   "source": [
    "print('Area of Circle with radius',radius,'is',area,'units')"
   ]
  },
  {
   "cell_type": "markdown",
   "metadata": {
    "colab_type": "text",
    "id": "8B_qwGP-TBRm"
   },
   "source": [
    "## 2. Check Number either positive, negative or zero"
   ]
  },
  {
   "cell_type": "markdown",
   "metadata": {
    "colab_type": "text",
    "id": "pdVRxpQCTBRo"
   },
   "source": [
    "#### Write a Python program to check if a number is positive, negative or zero\n",
    "###### Program Console Sample Output 1:\n",
    "###### Enter Number: -1\n",
    "##### Negative Number Entered\n",
    "###### Program Console Sample Output 2:\n",
    "##### Integer: 3\n",
    "##### Positive Number Entered\n",
    "###### Program Console Sample Output 3:\n",
    "##### Integer: 0\n",
    "###### Zero Entered"
   ]
  },
  {
   "cell_type": "code",
   "execution_count": 0,
   "metadata": {
    "colab": {},
    "colab_type": "code",
    "id": "8VCDnAsOTBRq",
    "outputId": "04ac4c2f-eb7d-42f9-d9d7-db6a6b34cd36"
   },
   "outputs": [
    {
     "name": "stdout",
     "output_type": "stream",
     "text": [
      "Enter any number:-1\n",
      "Negative number entered\n"
     ]
    }
   ],
   "source": [
    "num=int(input('Enter any number:'))\n",
    "if num==0:\n",
    "    print('Zero entered')\n",
    "elif num>0:\n",
    "    print('Positive number Entered')\n",
    "else:\n",
    "    print('Negative number entered')"
   ]
  },
  {
   "cell_type": "code",
   "execution_count": 0,
   "metadata": {
    "colab": {},
    "colab_type": "code",
    "id": "ulnBPsGHTBRw",
    "outputId": "aa9190e6-431b-4c26-cc15-324dd6ccd594"
   },
   "outputs": [
    {
     "name": "stdout",
     "output_type": "stream",
     "text": [
      "Enter any number:3\n",
      "Positive number Entered\n"
     ]
    }
   ],
   "source": [
    "num=int(input('Enter any number:'))\n",
    "if num==0:\n",
    "    print('Zero entered')\n",
    "elif num>0:\n",
    "    print('Positive number Entered')\n",
    "else:\n",
    "    print('Negative number entered')"
   ]
  },
  {
   "cell_type": "code",
   "execution_count": 0,
   "metadata": {
    "colab": {},
    "colab_type": "code",
    "id": "p-Tewk2sTBR2",
    "outputId": "e69e7a58-1313-4379-c12f-a57ee10390e5"
   },
   "outputs": [
    {
     "name": "stdout",
     "output_type": "stream",
     "text": [
      "Enter any number:0\n",
      "Zero entered\n"
     ]
    }
   ],
   "source": [
    "num=int(input('Enter any number:'))\n",
    "if num==0:\n",
    "    print('Zero entered')\n",
    "elif num>0:\n",
    "    print('Positive number Entered')\n",
    "else:\n",
    "    print('Negative number entered')"
   ]
  },
  {
   "cell_type": "markdown",
   "metadata": {
    "colab_type": "text",
    "id": "I-UeRR1LTBSA"
   },
   "source": [
    "## 3. Divisibility Check of two numbers"
   ]
  },
  {
   "cell_type": "markdown",
   "metadata": {
    "colab_type": "text",
    "id": "Qyvto3LjTBSC"
   },
   "source": [
    "#### Write a Python program to check whether a number is completely divisible by another number. Accept two integer values form the user\n",
    "##### Program Console Sample Output 1:\n",
    "###### Enter numerator: 4\n",
    "###### Enter Denominator: 2\n",
    "##### Number 4 is Completely divisible by 2\n",
    "###### Program Console Sample Output 2:\n",
    "##### Enter numerator: 7\n",
    "\n",
    "##### Enter Denominator: 4\n",
    "###### Number 7 is not Completely divisible by 4"
   ]
  },
  {
   "cell_type": "code",
   "execution_count": 0,
   "metadata": {
    "colab": {},
    "colab_type": "code",
    "id": "wvURkTo7TBSD",
    "outputId": "748f1029-a457-40ca-9f8b-9ff24cfb9e57"
   },
   "outputs": [
    {
     "name": "stdout",
     "output_type": "stream",
     "text": [
      "Enter 1st Number: 4\n",
      "Enter 2nd Number: 2\n",
      "Number 4 is completely divisible by 2\n"
     ]
    }
   ],
   "source": [
    "num1=int(input('Enter 1st Number: '))\n",
    "num2=int(input('Enter 2nd Number: '))\n",
    "if num1%num2==0:\n",
    "    print('Number',num1,'is completely divisible by',num2)\n",
    "else:\n",
    "    print('Number',num1,'is not completely divisible by',num2)"
   ]
  },
  {
   "cell_type": "code",
   "execution_count": 0,
   "metadata": {
    "colab": {},
    "colab_type": "code",
    "id": "EQhME0igTBSI",
    "outputId": "5d733c3d-8fcd-4a39-a5a1-6ecd9e419b43"
   },
   "outputs": [
    {
     "name": "stdout",
     "output_type": "stream",
     "text": [
      "Enter 1st Number: 7\n",
      "Enter 2nd Number: 4\n",
      "Number 7 is not completely divisible by 4\n"
     ]
    }
   ],
   "source": [
    "num1=int(input('Enter 1st Number: '))\n",
    "num2=int(input('Enter 2nd Number: '))\n",
    "if num1%num2==0:\n",
    "    print('Number',num1,'is completely divisible by',num2)\n",
    "else:\n",
    "    print('Number',num1,'is not completely divisible by',num2)"
   ]
  },
  {
   "cell_type": "markdown",
   "metadata": {
    "colab_type": "text",
    "id": "ZQBoCCXjTBSh"
   },
   "source": [
    "## 4. Calculate Volume of a sphere"
   ]
  },
  {
   "cell_type": "markdown",
   "metadata": {
    "colab_type": "text",
    "id": "-Oy3y1_XTBSi"
   },
   "source": [
    "##### Write a Python program to get the volume of a sphere, please take the radius as input from user"
   ]
  },
  {
   "cell_type": "markdown",
   "metadata": {
    "colab_type": "text",
    "id": "SP086eX9TBSj"
   },
   "source": [
    "##### Program Console Output:\n",
    "##### Enter Radius of Sphere: 1\n",
    "###### Volume of the Sphere with Radius 1 is 4.18"
   ]
  },
  {
   "cell_type": "code",
   "execution_count": 0,
   "metadata": {
    "colab": {},
    "colab_type": "code",
    "id": "Vbw5GbRoTBSk",
    "outputId": "7fddbfac-5876-4b69-ed32-b45615d7fb9a"
   },
   "outputs": [
    {
     "name": "stdout",
     "output_type": "stream",
     "text": [
      "Enter radius: 1\n"
     ]
    }
   ],
   "source": [
    "radius=int(input('Enter radius: '))"
   ]
  },
  {
   "cell_type": "code",
   "execution_count": 0,
   "metadata": {
    "colab": {},
    "colab_type": "code",
    "id": "zP3yYM0CTBSr"
   },
   "outputs": [],
   "source": [
    "volume=(4/3)*3.142*radius**3"
   ]
  },
  {
   "cell_type": "code",
   "execution_count": 0,
   "metadata": {
    "colab": {},
    "colab_type": "code",
    "id": "31iKYcfnTBSx",
    "outputId": "1449065b-a1f9-47c1-eeb0-cd6b0eaec261"
   },
   "outputs": [
    {
     "name": "stdout",
     "output_type": "stream",
     "text": [
      "Volume of the Sphere with radius 1 is 4.189333333333333\n"
     ]
    }
   ],
   "source": [
    "print('Volume of the Sphere with radius',radius,'is',volume)"
   ]
  },
  {
   "cell_type": "markdown",
   "metadata": {
    "colab_type": "text",
    "id": "lecFSsVXTBTB"
   },
   "source": [
    "## 5. Copy string n times\n",
    "#### Write a Python program to get a string which is n (non-negative integer) copies of a given string.\n",
    "##### Program Console Output:\n",
    "##### Enter String: Hi\n",
    "###### How many copies of String you need: 4\n",
    "###### 4 Copies of Hi are HiHiHiHi"
   ]
  },
  {
   "cell_type": "code",
   "execution_count": 0,
   "metadata": {
    "colab": {},
    "colab_type": "code",
    "id": "XkyjA9C2TBTC",
    "outputId": "86b2554d-d6c6-497e-95d2-e11023dc2050"
   },
   "outputs": [
    {
     "name": "stdout",
     "output_type": "stream",
     "text": [
      "Enter String: Hi\n"
     ]
    }
   ],
   "source": [
    "string=input('Enter String: ')\n"
   ]
  },
  {
   "cell_type": "code",
   "execution_count": 0,
   "metadata": {
    "colab": {},
    "colab_type": "code",
    "id": "cp3-sr4VTBTH",
    "outputId": "3060c3dc-37be-4283-e05a-273aae1503c3"
   },
   "outputs": [
    {
     "name": "stdout",
     "output_type": "stream",
     "text": [
      "How many copies you need? 4\n"
     ]
    }
   ],
   "source": [
    "copies=int(input('How many copies you need? '))"
   ]
  },
  {
   "cell_type": "code",
   "execution_count": 0,
   "metadata": {
    "colab": {},
    "colab_type": "code",
    "id": "Dm3In3k5TBTN",
    "outputId": "465006f9-3531-4cfb-de78-e0a7c0990dda"
   },
   "outputs": [
    {
     "name": "stdout",
     "output_type": "stream",
     "text": [
      "4 copies of Hi are HiHiHiHi\n"
     ]
    }
   ],
   "source": [
    "print(copies,'copies of',string,'are',string*copies)"
   ]
  },
  {
   "cell_type": "markdown",
   "metadata": {
    "colab_type": "text",
    "id": "YZr9DN3jTBTZ"
   },
   "source": [
    "## 6. Check if number is Even or Odd\n",
    "### Write a Python program to find whether a given number (accept from the user) is even or odd, print out an appropriate message to the user\n",
    "#### Program Console Output 1:\n",
    "##### Enter Number: 4\n",
    "###### 4 is Even\n",
    "#### Program Console Output 2:\n",
    "##### Enter Number: 9\n",
    "###### 9 is Odd"
   ]
  },
  {
   "cell_type": "code",
   "execution_count": 0,
   "metadata": {
    "colab": {},
    "colab_type": "code",
    "id": "3fAfMjsRTBTa",
    "outputId": "c89e9c39-205d-4e45-c73a-cdf4d26cb19c"
   },
   "outputs": [
    {
     "name": "stdout",
     "output_type": "stream",
     "text": [
      "Enter a Number: 4\n",
      "4 is even\n"
     ]
    }
   ],
   "source": [
    "num=int(input('Enter a Number: '))\n",
    "if num%2==0:\n",
    "    print(num,'is even')\n",
    "else:\n",
    "    print(num,'is odd')"
   ]
  },
  {
   "cell_type": "code",
   "execution_count": 0,
   "metadata": {
    "colab": {},
    "colab_type": "code",
    "id": "brnQObRrTBTf",
    "outputId": "f93a0927-41cd-4de4-88a6-130093f1cb54"
   },
   "outputs": [
    {
     "name": "stdout",
     "output_type": "stream",
     "text": [
      "Enter a Number: 9\n",
      "9 is odd\n"
     ]
    }
   ],
   "source": [
    "num=int(input('Enter a Number: '))\n",
    "if num%2==0:\n",
    "    print(num,'is even')\n",
    "else:\n",
    "    print(num,'is odd')"
   ]
  },
  {
   "cell_type": "markdown",
   "metadata": {
    "colab_type": "text",
    "id": "8bhlgYwdTBTt"
   },
   "source": [
    "## 7. Vowel Tester\n",
    "### Write a Python program to test whether a passed letter is a vowel or not\n",
    "#### Program Console Output 1:\n",
    "##### Enter a character: A\n",
    "###### Letter A is Vowel\n",
    "#### Program Console Output 2:\n",
    "##### Enter a character: e\n",
    "###### Letter e is Vowel\n",
    "#### Program Console Output 2:\n",
    "##### Enter a character: N\n",
    "###### Letter N is not Vowel"
   ]
  },
  {
   "cell_type": "code",
   "execution_count": 0,
   "metadata": {
    "colab": {},
    "colab_type": "code",
    "id": "UeVq08GLTBTu",
    "outputId": "e5393b1b-1e68-45cc-ff81-a1867b969641"
   },
   "outputs": [
    {
     "name": "stdout",
     "output_type": "stream",
     "text": [
      "Enter a character: A\n",
      "Letter A is vowel\n"
     ]
    }
   ],
   "source": [
    "char=input('Enter a character: ')\n",
    "if char.lower()=='a' or char.lower()=='e' or char.lower()=='i' or char.lower()=='o' or char.lower()=='u':\n",
    "    print('Letter',char,'is vowel')\n",
    "else:\n",
    "    print('Letter',char,'is not vowel')"
   ]
  },
  {
   "cell_type": "code",
   "execution_count": 0,
   "metadata": {
    "colab": {},
    "colab_type": "code",
    "id": "SJ-2FTYCTBTy",
    "outputId": "4ff337bc-09f8-4213-d70d-212eb397a423"
   },
   "outputs": [
    {
     "name": "stdout",
     "output_type": "stream",
     "text": [
      "Enter a character: e\n",
      "Letter e is vowel\n"
     ]
    }
   ],
   "source": [
    "char=input('Enter a character: ')\n",
    "if char.lower()=='a' or char.lower()=='e' or char.lower()=='i' or char.lower()=='o' or char.lower()=='u':\n",
    "    print('Letter',char,'is vowel')\n",
    "else:\n",
    "    print('Letter',char,'is not vowel')"
   ]
  },
  {
   "cell_type": "code",
   "execution_count": 0,
   "metadata": {
    "colab": {},
    "colab_type": "code",
    "id": "fh-_sLa8TBT2",
    "outputId": "3cd72213-fc8e-412c-9478-222e15bf3bdb"
   },
   "outputs": [
    {
     "name": "stdout",
     "output_type": "stream",
     "text": [
      "Enter a character: N\n",
      "Letter N is not vowel\n"
     ]
    }
   ],
   "source": [
    "char=input('Enter a character: ')\n",
    "if char.lower()=='a' or char.lower()=='e' or char.lower()=='i' or char.lower()=='o' or char.lower()=='u':\n",
    "    print('Letter',char,'is vowel')\n",
    "else:\n",
    "    print('Letter',char,'is not vowel')"
   ]
  },
  {
   "cell_type": "markdown",
   "metadata": {
    "colab_type": "text",
    "id": "ibkVNGAWTBT-"
   },
   "source": [
    "## 8. Triangle area\n",
    "### Write a Python program that will accept the base and height of a triangle and compute the area\n",
    "###### Reference:\n",
    "https://www.mathgoodies.com/lessons/vol1/area_triangle"
   ]
  },
  {
   "cell_type": "code",
   "execution_count": 0,
   "metadata": {
    "colab": {},
    "colab_type": "code",
    "id": "arH1fchTTBT_",
    "outputId": "7b23739e-0c11-4bf0-9d5e-f451a4fb46ed"
   },
   "outputs": [
    {
     "name": "stdout",
     "output_type": "stream",
     "text": [
      "Enter a base of triangle: 2\n"
     ]
    }
   ],
   "source": [
    "base=float(input('Enter a base of triangle: '))"
   ]
  },
  {
   "cell_type": "code",
   "execution_count": 0,
   "metadata": {
    "colab": {},
    "colab_type": "code",
    "id": "R2iqE7I4TBUF",
    "outputId": "69d56798-2680-4b8c-a7fb-0ca5e271ffdf"
   },
   "outputs": [
    {
     "name": "stdout",
     "output_type": "stream",
     "text": [
      "Enter a height of triangle: 5.5\n"
     ]
    }
   ],
   "source": [
    "height=float(input('Enter a height of triangle: '))"
   ]
  },
  {
   "cell_type": "code",
   "execution_count": 0,
   "metadata": {
    "colab": {},
    "colab_type": "code",
    "id": "gWy__bZVTBUJ"
   },
   "outputs": [],
   "source": [
    "area=(1/2)*base*height"
   ]
  },
  {
   "cell_type": "code",
   "execution_count": 0,
   "metadata": {
    "colab": {},
    "colab_type": "code",
    "id": "9hJOakeaTBUM",
    "outputId": "89f1aa48-fc60-4617-ac5d-2582dc3a0f00"
   },
   "outputs": [
    {
     "name": "stdout",
     "output_type": "stream",
     "text": [
      "The area of triangle with base 2.0 and height 5.5 is 5.5\n"
     ]
    }
   ],
   "source": [
    "print(f'The area of triangle with base {base} and height {height} is {area}')"
   ]
  },
  {
   "cell_type": "markdown",
   "metadata": {
    "colab_type": "text",
    "id": "OqNwlU99TBUS"
   },
   "source": [
    "## 9. Calculate Interest\n",
    "### Write a Python program to compute the future value of a specified principal amount, rate of interest, and a number of years\n",
    "#### Program Console Sample 1:\n",
    "##### Please enter principal amount: 10000\n",
    "###### Please Enter Rate of interest in %: 0.1\n",
    "###### Enter number of years for investment: 5\n",
    "###### After 5 years your principal amount 10000 over an interest rate of 0.1 % will be 16105.1"
   ]
  },
  {
   "cell_type": "code",
   "execution_count": 0,
   "metadata": {
    "colab": {},
    "colab_type": "code",
    "id": "YUE6ZWiDTBUT",
    "outputId": "e3101251-2dc3-4ca3-ed20-9a125c4d3d42"
   },
   "outputs": [
    {
     "name": "stdout",
     "output_type": "stream",
     "text": [
      "Enter principal amount: 10000\n",
      "Please Enter rate of interest: 0.1\n",
      "Enter number of years for investment: 5\n",
      "After 5 years your principle amount 10000 over an interest rate 0.1% will be 16105.100000000006\n"
     ]
    }
   ],
   "source": [
    "p_amount=int(input('Enter principal amount: '))\n",
    "rate=float(input('Please Enter rate of interest: '))\n",
    "time=int(input('Enter number of years for investment: '))\n",
    "total=p_amount*((1+rate)**time)   #Formula of compound interest\n",
    "print(f'After {time} years your principle amount {p_amount} over an interest rate {rate}% will be {total}')"
   ]
  },
  {
   "cell_type": "markdown",
   "metadata": {
    "colab_type": "text",
    "id": "gXJJ5CHMTBU3"
   },
   "source": [
    "## 10. Euclidean distance\n",
    "### write a Python program to compute the distance between the points (x1, y1) and (x2, y2).\n",
    "#### Program Console Sample 1:\n",
    "###### Enter Co-ordinate for x1: 2\n",
    "###### Enter Co-ordinate for x2: 4\n",
    "###### Enter Co-ordinate for y1: 4\n",
    "###### Enter Co-ordinate for y2: 4\n",
    "###### Distance between points (2, 4) and (4, 4) is 2"
   ]
  },
  {
   "cell_type": "markdown",
   "metadata": {
    "colab_type": "text",
    "id": "0rfYn4dwTBU4"
   },
   "source": [
    "###### Reference:\n",
    "https://en.wikipedia.org/wiki/Euclidean_distance"
   ]
  },
  {
   "cell_type": "code",
   "execution_count": 0,
   "metadata": {
    "colab": {},
    "colab_type": "code",
    "id": "R3WcartyTBU5",
    "outputId": "fbc182c0-deb5-426a-e108-37a0ba0710a5"
   },
   "outputs": [
    {
     "name": "stdout",
     "output_type": "stream",
     "text": [
      "Enter co=ordinate for x1: 2\n",
      "Enter co-ordinate for x2: 4\n",
      "Enter co-ordinate for y1: 4\n",
      "Enter co-ordinate for y2: 4\n"
     ]
    }
   ],
   "source": [
    "x1=float(input('Enter co=ordinate for x1: '))\n",
    "x2=float(input('Enter co-ordinate for x2: '))\n",
    "y1=float(input('Enter co-ordinate for y1: '))\n",
    "y2=float(input('Enter co-ordinate for y2: '))"
   ]
  },
  {
   "cell_type": "code",
   "execution_count": 0,
   "metadata": {
    "colab": {},
    "colab_type": "code",
    "id": "mXKISDL7TBU9"
   },
   "outputs": [],
   "source": [
    "dist=(((x2-x1)**2)+((y2-y1)**2))**0.5"
   ]
  },
  {
   "cell_type": "code",
   "execution_count": 0,
   "metadata": {
    "colab": {},
    "colab_type": "code",
    "id": "YDUXUjRKTBVE",
    "outputId": "407f8bb7-299a-4a59-82b9-5c5279cb04d3"
   },
   "outputs": [
    {
     "name": "stdout",
     "output_type": "stream",
     "text": [
      "Distance between points (2.0,4.0) and (4.0,4.0) is 2.0\n"
     ]
    }
   ],
   "source": [
    "print(f'Distance between points ({x1},{y1}) and ({x2},{y2}) is {dist}')"
   ]
  },
  {
   "cell_type": "markdown",
   "metadata": {
    "colab_type": "text",
    "id": "V5Lr9DWKTBVN"
   },
   "source": [
    "## 11. Feet to Centimeter Converter\n",
    "### Write a Python program to convert height in feet to centimetres.\n",
    "##### Program Console Sample 1:\n",
    "###### Enter Height in Feet: 5\n",
    "###### There are 152.4 Cm in 5 ft\n",
    "###### Reference:\n",
    "https://www.rapidtables.com/convert/length/feet-to-cm.html"
   ]
  },
  {
   "cell_type": "code",
   "execution_count": 0,
   "metadata": {
    "colab": {},
    "colab_type": "code",
    "id": "zKdQ79iPTBVO",
    "outputId": "642d0b4a-38f6-4987-ccc4-efe22ecdd2ac"
   },
   "outputs": [
    {
     "name": "stdout",
     "output_type": "stream",
     "text": [
      "Enter Height in feet: 5\n"
     ]
    }
   ],
   "source": [
    "h_in_feet=int(input('Enter Height in feet: '))"
   ]
  },
  {
   "cell_type": "code",
   "execution_count": 0,
   "metadata": {
    "colab": {},
    "colab_type": "code",
    "id": "EfupM89_TBVS"
   },
   "outputs": [],
   "source": [
    "h_in_cm=30.48*h_in_feet    #30.48 is a conversion factor"
   ]
  },
  {
   "cell_type": "code",
   "execution_count": 0,
   "metadata": {
    "colab": {},
    "colab_type": "code",
    "id": "0l87JqdFTBVV",
    "outputId": "fb94d0db-61fe-426b-ee3a-82466561e237"
   },
   "outputs": [
    {
     "name": "stdout",
     "output_type": "stream",
     "text": [
      "There are 152.4 cm in 5 ft\n"
     ]
    }
   ],
   "source": [
    "print('There are',h_in_cm,'cm in',h_in_feet,'ft')"
   ]
  },
  {
   "cell_type": "markdown",
   "metadata": {
    "colab_type": "text",
    "id": "44sDhk75TBVc"
   },
   "source": [
    "## 12. BMI Calculator\n",
    "### Write a Python program to calculate body mass index\n",
    "##### Program Console Sample 1:\n",
    "###### Enter Height in Cm: 180\n",
    "###### Enter Weight in Kg: 75\n",
    "###### Your BMI is 23.15"
   ]
  },
  {
   "cell_type": "code",
   "execution_count": 0,
   "metadata": {
    "colab": {},
    "colab_type": "code",
    "id": "4Np9F9Y5TBVe",
    "outputId": "eb79469e-88fc-4737-e1ec-63b997a93f86"
   },
   "outputs": [
    {
     "name": "stdout",
     "output_type": "stream",
     "text": [
      "Enter Height in cm: 180\n",
      "Enter weight in kg: 75\n",
      "Your BMI is 23.148148148148145\n"
     ]
    }
   ],
   "source": [
    "h_in_cm=int(input('Enter Height in cm: '))\n",
    "weight=int(input('Enter weight in kg: '))\n",
    "h_in_meters=h_in_cm/100\n",
    "bmi=weight/(h_in_meters**2)   #Formula of BMI\n",
    "print('Your BMI is',bmi)"
   ]
  },
  {
   "cell_type": "markdown",
   "metadata": {
    "colab_type": "text",
    "id": "RpDuMLkxTBVn"
   },
   "source": [
    "## 13. Sum of n Positive Integers\n",
    "### Write a python program to sum of the first n positive integers\n",
    "#### Program Console Sample 1:\n",
    "###### Enter value of n: 5\n",
    "###### Sum of n Positive integers till 5 is 15"
   ]
  },
  {
   "cell_type": "code",
   "execution_count": 0,
   "metadata": {
    "colab": {},
    "colab_type": "code",
    "id": "BTCUj8HyTBVn",
    "outputId": "3f1bbebe-1401-4159-8d65-c1a425bad792"
   },
   "outputs": [
    {
     "name": "stdout",
     "output_type": "stream",
     "text": [
      "Enter value of n: 5\n"
     ]
    }
   ],
   "source": [
    "n=int(input('Enter value of n: '))"
   ]
  },
  {
   "cell_type": "code",
   "execution_count": 0,
   "metadata": {
    "colab": {},
    "colab_type": "code",
    "id": "Bf-6sIe6TBVr"
   },
   "outputs": [],
   "source": [
    "sum_=0\n",
    "for i in range(1,n+1):\n",
    "    sum_=sum_+i"
   ]
  },
  {
   "cell_type": "code",
   "execution_count": 0,
   "metadata": {
    "colab": {},
    "colab_type": "code",
    "id": "mmDbIVybTBVt",
    "outputId": "e4c2e938-b34b-4fef-ffe4-6557291235b5"
   },
   "outputs": [
    {
     "name": "stdout",
     "output_type": "stream",
     "text": [
      "Sum of n positive integers till 5 is 15\n"
     ]
    }
   ],
   "source": [
    "print('Sum of n positive integers till',n,'is',sum_)"
   ]
  },
  {
   "cell_type": "markdown",
   "metadata": {
    "colab_type": "text",
    "id": "xfhHfvUATBVz"
   },
   "source": [
    "## 14. Digits Sum of a Number\n",
    "### Write a Python program to calculate the sum of the digits in an integer\n",
    "#### Program Console Sample 1:\n",
    "##### Enter a number: 15\n",
    "###### Sum of 1 + 5 is 6\n",
    "#### Program Console Sample 2:\n",
    "##### Enter a number: 1234\n",
    "###### Sum of 1 + 2 + 3 + 4 is 10"
   ]
  },
  {
   "cell_type": "code",
   "execution_count": 0,
   "metadata": {
    "colab": {},
    "colab_type": "code",
    "id": "u2W0WWbdTBV1",
    "outputId": "cbb9691d-1deb-4c7b-89b8-a0cf82ddfa85"
   },
   "outputs": [
    {
     "name": "stdout",
     "output_type": "stream",
     "text": [
      "Enter an Integer: 15\n",
      "Sum of 1+5 is  6\n"
     ]
    }
   ],
   "source": [
    "num=input('Enter an Integer: ')\n",
    "sum_=0\n",
    "for i in num:\n",
    "    sum_=sum_+int(i)\n",
    "print('Sum of 1+5 is ',sum_)    \n",
    "    "
   ]
  },
  {
   "cell_type": "code",
   "execution_count": 0,
   "metadata": {
    "colab": {},
    "colab_type": "code",
    "id": "mGSWLiMgTBV5",
    "outputId": "f8b9f987-d957-43a5-d3f2-6193514f35b4"
   },
   "outputs": [
    {
     "name": "stdout",
     "output_type": "stream",
     "text": [
      "Enter an Integer: 1234\n",
      "Sum of 1+2+3+4 is  10\n"
     ]
    }
   ],
   "source": [
    "num=input('Enter an Integer: ')\n",
    "sum_=0\n",
    "for i in num:\n",
    "    sum_=sum_+int(i)\n",
    "print('Sum of 1+2+3+4 is ',sum_)    \n",
    "    "
   ]
  }
 ],
 "metadata": {
  "colab": {
   "name": "Copy of PIAIC Official assignment 1 by Muhammad Miqdad Khan (AIC002998).ipynb",
   "provenance": [
    {
     "file_id": "1X1a-skEDtHX27qcwsuBzfJv1kOOlNsD-",
     "timestamp": 1559917845920
    }
   ],
   "version": "0.3.2"
  },
  "kernelspec": {
   "display_name": "Python 3",
   "language": "python",
   "name": "python3"
  },
  "language_info": {
   "codemirror_mode": {
    "name": "ipython",
    "version": 3
   },
   "file_extension": ".py",
   "mimetype": "text/x-python",
   "name": "python",
   "nbconvert_exporter": "python",
   "pygments_lexer": "ipython3",
   "version": "3.7.3"
  }
 },
 "nbformat": 4,
 "nbformat_minor": 1
}
